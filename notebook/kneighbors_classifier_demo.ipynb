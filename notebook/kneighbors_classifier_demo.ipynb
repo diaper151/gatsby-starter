{
 "cells": [
  {
   "cell_type": "markdown",
   "metadata": {},
   "source": [
    "# K-Nearest Neighbors Classification Demo\n",
    "\n",
    "K近鄰分類使用數據樣本周圍的資料標籤對數據進行分類。"
   ]
  },
  {
   "cell_type": "markdown",
   "metadata": {},
   "source": [
    "## 1. Import 相關套件"
   ]
  },
  {
   "cell_type": "code",
   "execution_count": 11,
   "metadata": {},
   "outputs": [],
   "source": [
    "import os\n",
    "\n",
    "import numpy as np\n",
    "\n",
    "from sklearn.datasets import make_blobs\n",
    "\n",
    "import pandas as pd\n",
    "import cudf as gd\n",
    "\n",
    "from sklearn.neighbors import KNeighborsClassifier as skKNC\n",
    "from ncue.neighbors import KNeighborsClassifier as cuKNC"
   ]
  },
  {
   "cell_type": "markdown",
   "metadata": {},
   "source": [
    "## 2. 定義 Parameters"
   ]
  },
  {
   "cell_type": "code",
   "execution_count": 12,
   "metadata": {},
   "outputs": [],
   "source": [
    "n_samples = 2**17\n",
    "n_features = 40\n",
    "\n",
    "n_query = 5000\n",
    "\n",
    "n_neighbors = 4"
   ]
  },
  {
   "cell_type": "markdown",
   "metadata": {},
   "source": [
    "## 3. 產生測試資料"
   ]
  },
  {
   "cell_type": "markdown",
   "metadata": {},
   "source": [
    "### Host (RAM)"
   ]
  },
  {
   "cell_type": "code",
   "execution_count": 13,
   "metadata": {},
   "outputs": [
    {
     "name": "stdout",
     "output_type": "stream",
     "text": [
      "CPU times: user 221 ms, sys: 20.8 ms, total: 241 ms\n",
      "Wall time: 242 ms\n"
     ]
    }
   ],
   "source": [
    "%%time\n",
    "X_host_train, y_host_train = make_blobs(\n",
    "   n_samples=n_samples, n_features=n_features, centers=5, random_state=0)\n",
    "\n",
    "X_host_train = pd.DataFrame(X_host_train)\n",
    "y_host_train = pd.DataFrame(y_host_train)"
   ]
  },
  {
   "cell_type": "code",
   "execution_count": 14,
   "metadata": {},
   "outputs": [
    {
     "name": "stdout",
     "output_type": "stream",
     "text": [
      "CPU times: user 9.46 ms, sys: 489 µs, total: 9.95 ms\n",
      "Wall time: 9.02 ms\n"
     ]
    }
   ],
   "source": [
    "%%time\n",
    "X_host_test, y_host_test = make_blobs(\n",
    "   n_samples=n_query, n_features=n_features, centers=5, random_state=0)\n",
    "\n",
    "X_host_test = pd.DataFrame(X_host_test)\n",
    "y_host_test = pd.DataFrame(y_host_test)"
   ]
  },
  {
   "cell_type": "markdown",
   "metadata": {},
   "source": [
    "### Device (GPU MEMORY)"
   ]
  },
  {
   "cell_type": "code",
   "execution_count": 15,
   "metadata": {},
   "outputs": [],
   "source": [
    "# 將資料從RAM複製到GPU MEMORY，方便NCUE MODEL使用，以利最後結果的比對\n",
    "\n",
    "X_device_train = gd.DataFrame.from_pandas(X_host_train)\n",
    "y_device_train = gd.DataFrame.from_pandas(y_host_train)"
   ]
  },
  {
   "cell_type": "code",
   "execution_count": 16,
   "metadata": {},
   "outputs": [],
   "source": [
    "X_device_test = gd.DataFrame.from_pandas(X_host_test)\n",
    "y_device_test = gd.DataFrame.from_pandas(y_host_test)"
   ]
  },
  {
   "cell_type": "markdown",
   "metadata": {},
   "source": [
    "## 4. Scikit-learn 模型(CPU)"
   ]
  },
  {
   "cell_type": "code",
   "execution_count": 17,
   "metadata": {},
   "outputs": [
    {
     "name": "stderr",
     "output_type": "stream",
     "text": [
      "/opt/conda/envs/rapids/lib/python3.7/site-packages/ipykernel_launcher.py:2: DataConversionWarning: A column-vector y was passed when a 1d array was expected. Please change the shape of y to (n_samples, ), for example using ravel().\n",
      "  \n"
     ]
    },
    {
     "name": "stdout",
     "output_type": "stream",
     "text": [
      "CPU times: user 1min 38s, sys: 14.3 s, total: 1min 53s\n",
      "Wall time: 17.6 s\n"
     ]
    }
   ],
   "source": [
    "%%time\n",
    "knn_sk = skKNC(algorithm=\"brute\", n_neighbors=n_neighbors, n_jobs=-1)\n",
    "knn_sk.fit(X_host_train, y_host_train)\n",
    "\n",
    "sk_result = knn_sk.predict(X_host_test)"
   ]
  },
  {
   "cell_type": "markdown",
   "metadata": {},
   "source": [
    "## 5. NCUE 模型(GPU)"
   ]
  },
  {
   "cell_type": "code",
   "execution_count": 18,
   "metadata": {},
   "outputs": [
    {
     "name": "stdout",
     "output_type": "stream",
     "text": [
      "CPU times: user 684 ms, sys: 160 ms, total: 844 ms\n",
      "Wall time: 849 ms\n"
     ]
    }
   ],
   "source": [
    "%%time\n",
    "knn_ncue = cuKNC(n_neighbors=n_neighbors)\n",
    "knn_ncue.fit(X_device_train, y_device_train)\n",
    "\n",
    "ncue_result = knn_ncue.predict(X_device_test)"
   ]
  },
  {
   "cell_type": "markdown",
   "metadata": {},
   "source": [
    "## 6. 比對運算結果(CPU vs. GPU)"
   ]
  },
  {
   "cell_type": "code",
   "execution_count": 19,
   "metadata": {},
   "outputs": [
    {
     "name": "stdout",
     "output_type": "stream",
     "text": [
      "compare knn: ncue vs sklearn classes equal\n"
     ]
    }
   ],
   "source": [
    "passed = np.array_equal(np.asarray(ncue_result.as_gpu_matrix())[:,0], sk_result)\n",
    "print('compare knn: ncue vs sklearn classes %s'%('equal'if passed else 'NOT equal'))"
   ]
  }
 ],
 "metadata": {
  "kernelspec": {
   "display_name": "Python 3",
   "language": "python",
   "name": "python3"
  },
  "language_info": {
   "codemirror_mode": {
    "name": "ipython",
    "version": 3
   },
   "file_extension": ".py",
   "mimetype": "text/x-python",
   "name": "python",
   "nbconvert_exporter": "python",
   "pygments_lexer": "ipython3",
   "version": "3.7.6"
  }
 },
 "nbformat": 4,
 "nbformat_minor": 4
}
