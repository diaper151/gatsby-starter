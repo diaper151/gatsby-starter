{
 "cells": [
  {
   "cell_type": "markdown",
   "metadata": {},
   "source": [
    "# <center> Make ML Works On GPUs </ccenter>"
   ]
  },
  {
   "cell_type": "markdown",
   "metadata": {},
   "source": [
    "## But...why ?\n",
    "<img src=\"img/01.png\" style=\"float: right;\"  width=\"550\"/>\n",
    "<img src=\"img/02.png\" style=\"float: left;\"  width=\"550\"/>"
   ]
  },
  {
   "cell_type": "markdown",
   "metadata": {},
   "source": [
    "Quoted:\n",
    "對於學生，以及局外人來說，Machine Learning好像就只是ML演算法而已。\n",
    "但實際ML系統中核心的演算法只是非常小的一部分，真正上production的系統需要很大的infrastructure跟platform支援。這也就是為什麼所有科技公司都建了/正在建自己的Machine Learning Platform，如LinkedIn的TonY (Tensorflow on YARN)\n",
    "所以要實現人工智慧之前，要先投資工人智慧。"
   ]
  },
  {
   "cell_type": "markdown",
   "metadata": {},
   "source": [
    "## Algorithm we're going to implement"
   ]
  },
  {
   "cell_type": "markdown",
   "metadata": {},
   "source": [
    "### Linear Regression on GPU"
   ]
  },
  {
   "cell_type": "markdown",
   "metadata": {},
   "source": [
    "### Ridge Regression on GPU"
   ]
  },
  {
   "cell_type": "markdown",
   "metadata": {},
   "source": [
    "### KNN on GPU"
   ]
  },
  {
   "cell_type": "markdown",
   "metadata": {},
   "source": [
    "### PCA on GPU"
   ]
  },
  {
   "cell_type": "markdown",
   "metadata": {},
   "source": [
    "### Maybe Lasso on GPU"
   ]
  },
  {
   "cell_type": "markdown",
   "metadata": {},
   "source": [
    "## How ?"
   ]
  },
  {
   "cell_type": "markdown",
   "metadata": {},
   "source": [
    "We use Cuda and C++ as backend, Python as frontend API. \n",
    "\n",
    "Our test environment :\n",
    "\n",
    "HW  | Info\n",
    "----|:-----:|\n",
    "OS  | Ubuntu Desktop 18.10\n",
    "CPU | Ryzen 2700X\n",
    "GPU | Nvidia GTX1080Ti & RTX2070\n",
    "RAM | 16G DDR4-2400\n"
   ]
  },
  {
   "cell_type": "markdown",
   "metadata": {},
   "source": [
    "## Evaluation"
   ]
  },
  {
   "cell_type": "code",
   "execution_count": null,
   "metadata": {},
   "outputs": [],
   "source": []
  }
 ],
 "metadata": {
  "kernelspec": {
   "display_name": "Python (light)",
   "language": "python",
   "name": "light"
  },
  "language_info": {
   "codemirror_mode": {
    "name": "ipython",
    "version": 3
   },
   "file_extension": ".py",
   "mimetype": "text/x-python",
   "name": "python",
   "nbconvert_exporter": "python",
   "pygments_lexer": "ipython3",
   "version": "3.7.2"
  }
 },
 "nbformat": 4,
 "nbformat_minor": 2
}
