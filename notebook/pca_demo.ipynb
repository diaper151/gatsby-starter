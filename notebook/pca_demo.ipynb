{
 "cells": [
  {
   "cell_type": "markdown",
   "metadata": {},
   "source": [
    "# Principal Componenet Analysis (PCA)\n",
    "\n",
    "PCA 是一種降維演算法，它很適合使用在具有相關列(column)的數據集。 降維就是希望資料的維度數減少，但整體的效能不會差異太多甚至會更好"
   ]
  },
  {
   "cell_type": "markdown",
   "metadata": {},
   "source": [
    "## 1. Import 相關套件"
   ]
  },
  {
   "cell_type": "code",
   "metadata": {},
   "source": [
    "import cudf\n",
    "import numpy as np\n",
    "from ncue.datasets import make_blobs\n",
    "from ncue.decomposition import PCA as cuPCA\n",
    "from sklearn.decomposition import PCA as skPCA"
   ]
  },
  {
   "cell_type": "markdown",
   "metadata": {},
   "source": [
    "## 2. 定義 Parameters"
   ]
  },
  {
   "cell_type": "code",
   "execution_count": 24,
   "metadata": {},
   "outputs": [],
   "source": [
    "n_samples = 2**15\n",
    "n_features = 400\n",
    "\n",
    "n_components = 2\n",
    "whiten = False\n",
    "svd_solver = \"full\"\n",
    "random_state = 23"
   ]
  },
  {
   "cell_type": "markdown",
   "metadata": {},
   "source": [
    "## 3. 產生測試資料"
   ]
  },
  {
   "cell_type": "code",
   "execution_count": 25,
   "metadata": {},
   "outputs": [
    {
     "name": "stdout",
     "output_type": "stream",
     "text": [
      "CPU times: user 244 ms, sys: 13.2 ms, total: 257 ms\n",
      "Wall time: 253 ms\n"
     ]
    }
   ],
   "source": [
    "%%time\n",
    "device_data, _ = make_blobs(n_samples=n_samples, \n",
    "                            n_features=n_features, \n",
    "                            centers=5, \n",
    "                            random_state=random_state)\n",
    "\n",
    "device_data = cudf.DataFrame.from_gpu_matrix(device_data)"
   ]
  },
  {
   "cell_type": "code",
   "execution_count": 26,
   "metadata": {},
   "outputs": [],
   "source": [
    "# 將資料從GPU MEMORY複製到RAM，方便sklearn使用，以利最後結果的比對\n",
    "\n",
    "host_data = device_data.to_pandas()"
   ]
  },
  {
   "cell_type": "markdown",
   "metadata": {},
   "source": [
    "## 4. Scikit-learn 模型(CPU)"
   ]
  },
  {
   "cell_type": "markdown",
   "metadata": {},
   "source": [
    "### 將資料餵入模型"
   ]
  },
  {
   "cell_type": "code",
   "execution_count": 27,
   "metadata": {},
   "outputs": [
    {
     "name": "stdout",
     "output_type": "stream",
     "text": [
      "CPU times: user 52 s, sys: 12.1 s, total: 1min 4s\n",
      "Wall time: 4.26 s\n"
     ]
    }
   ],
   "source": [
    "%%time\n",
    "pca_sk = skPCA(n_components=n_components,\n",
    "               svd_solver=svd_solver,\n",
    "               whiten=whiten,\n",
    "               random_state=random_state)\n",
    "\n",
    "result_sk = pca_sk.fit_transform(host_data)"
   ]
  },
  {
   "cell_type": "markdown",
   "metadata": {},
   "source": [
    "## 5. NCUE 模型(GPU)"
   ]
  },
  {
   "cell_type": "markdown",
   "metadata": {},
   "source": [
    "### 將資料餵入模型"
   ]
  },
  {
   "cell_type": "code",
   "execution_count": 28,
   "metadata": {},
   "outputs": [
    {
     "name": "stdout",
     "output_type": "stream",
     "text": [
      "CPU times: user 366 ms, sys: 443 ms, total: 809 ms\n",
      "Wall time: 364 ms\n"
     ]
    }
   ],
   "source": [
    "%%time\n",
    "pca_ncue = cuPCA(n_components=n_components,\n",
    "                 svd_solver=svd_solver,\n",
    "                 whiten=whiten,\n",
    "                 random_state=random_state)\n",
    "\n",
    "result_ncue = pca_ncue.fit_transform(device_data)"
   ]
  },
  {
   "cell_type": "markdown",
   "metadata": {},
   "source": [
    "## 6. 評估比對結果"
   ]
  },
  {
   "cell_type": "markdown",
   "metadata": {},
   "source": [
    "### Singular Values"
   ]
  },
  {
   "cell_type": "code",
   "execution_count": 29,
   "metadata": {},
   "outputs": [
    {
     "name": "stdout",
     "output_type": "stream",
     "text": [
      "compare pca: ncue vs sklearn singular_values_ equal\n"
     ]
    }
   ],
   "source": [
    "passed = np.allclose(pca_sk.singular_values_, \n",
    "                     pca_ncue.singular_values_.to_array(), \n",
    "                     atol=0.01)\n",
    "print('compare pca: ncue vs sklearn singular_values_ {}'.format('equal' if passed else 'NOT equal'))"
   ]
  },
  {
   "cell_type": "markdown",
   "metadata": {},
   "source": [
    "### Explained Variance"
   ]
  },
  {
   "cell_type": "code",
   "execution_count": 30,
   "metadata": {},
   "outputs": [
    {
     "name": "stdout",
     "output_type": "stream",
     "text": [
      "compare pca: ncue vs sklearn explained_variance_ equal\n"
     ]
    }
   ],
   "source": [
    "passed = np.allclose(pca_sk.explained_variance_, \n",
    "                     pca_ncue.explained_variance_.to_array(), \n",
    "                     atol=1e-6)\n",
    "print('compare pca: ncue vs sklearn explained_variance_ {}'.format('equal' if passed else 'NOT equal'))"
   ]
  },
  {
   "cell_type": "markdown",
   "metadata": {},
   "source": [
    "### Explained Variance Ratio"
   ]
  },
  {
   "cell_type": "code",
   "execution_count": 31,
   "metadata": {},
   "outputs": [
    {
     "name": "stdout",
     "output_type": "stream",
     "text": [
      "compare pca: ncue vs sklearn explained_variance_ratio_ equal\n"
     ]
    }
   ],
   "source": [
    "passed = np.allclose(pca_sk.explained_variance_ratio_, \n",
    "                     pca_ncue.explained_variance_ratio_.to_array(), \n",
    "                     atol=1e-6)\n",
    "print('compare pca: ncue vs sklearn explained_variance_ratio_ {}'.format('equal' if passed else 'NOT equal'))"
   ]
  },
  {
   "cell_type": "markdown",
   "metadata": {},
   "source": [
    "### Components"
   ]
  },
  {
   "cell_type": "code",
   "execution_count": 32,
   "metadata": {
    "scrolled": true
   },
   "outputs": [
    {
     "name": "stdout",
     "output_type": "stream",
     "text": [
      "compare pca: ncue vs sklearn components_ equal\n"
     ]
    }
   ],
   "source": [
    "passed = np.allclose(pca_sk.components_, \n",
    "                     np.asarray(pca_ncue.components_.as_gpu_matrix()), \n",
    "                     atol=1e-6)\n",
    "print('compare pca: ncue vs sklearn components_ {}'.format('equal' if passed else 'NOT equal'))"
   ]
  },
  {
   "cell_type": "markdown",
   "metadata": {},
   "source": [
    "### Transform"
   ]
  },
  {
   "cell_type": "code",
   "execution_count": 33,
   "metadata": {},
   "outputs": [
    {
     "name": "stdout",
     "output_type": "stream",
     "text": [
      "compare pca: ncue vs sklearn transformed results equal\n"
     ]
    }
   ],
   "source": [
    "passed = np.allclose(result_sk, np.asarray(result_ncue.as_gpu_matrix()), atol=1e-1)\n",
    "print('compare pca: ncue vs sklearn transformed results %s'%('equal'if passed else 'NOT equal'))"
   ]
  }
 ],
 "metadata": {
  "kernelspec": {
   "display_name": "Python 3",
   "language": "python",
   "name": "python3"
  },
  "language_info": {
   "codemirror_mode": {
    "name": "ipython",
    "version": 3
   },
   "file_extension": ".py",
   "mimetype": "text/x-python",
   "name": "python",
   "nbconvert_exporter": "python",
   "pygments_lexer": "ipython3",
   "version": "3.7.6"
  }
 },
 "nbformat": 4,
 "nbformat_minor": 4
}
